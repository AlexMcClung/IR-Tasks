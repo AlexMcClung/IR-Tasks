{
 "cells": [
  {
   "cell_type": "markdown",
   "metadata": {},
   "source": [
    "# IPEDS Restructuring Example"
   ]
  },
  {
   "cell_type": "markdown",
   "metadata": {},
   "source": [
    "Admissions data downloaded from the IPEDS Data Center"
   ]
  },
  {
   "cell_type": "code",
   "execution_count": 50,
   "metadata": {
    "vscode": {
     "languageId": "r"
    }
   },
   "outputs": [],
   "source": [
    "library(tidyverse)\n",
    "# install.packages('janitor')"
   ]
  },
  {
   "cell_type": "code",
   "execution_count": 51,
   "metadata": {
    "vscode": {
     "languageId": "r"
    }
   },
   "outputs": [
    {
     "name": "stderr",
     "output_type": "stream",
     "text": [
      "\u001b[1mRows: \u001b[22m\u001b[34m11\u001b[39m \u001b[1mColumns: \u001b[22m\u001b[34m192\u001b[39m\n",
      "\u001b[36m──\u001b[39m \u001b[1mColumn specification\u001b[22m \u001b[36m────────────────────────────────────────────────────────\u001b[39m\n",
      "\u001b[1mDelimiter:\u001b[22m \",\"\n",
      "\u001b[31mchr\u001b[39m   (1): institution_name\n",
      "\u001b[32mdbl\u001b[39m (190): unit_id, applicants_total_adm2021, applicants_men_adm2021, applic...\n",
      "\u001b[33mlgl\u001b[39m   (1): x\n",
      "\n",
      "\u001b[36mℹ\u001b[39m Use `spec()` to retrieve the full column specification for this data.\n",
      "\u001b[36mℹ\u001b[39m Specify the column types or set `show_col_types = FALSE` to quiet this message.\n"
     ]
    },
    {
     "data": {
      "text/html": [
       "<table class=\"dataframe\">\n",
       "<caption>A tibble: 6 × 192</caption>\n",
       "<thead>\n",
       "\t<tr><th scope=col>unit_id</th><th scope=col>institution_name</th><th scope=col>applicants_total_adm2021</th><th scope=col>applicants_men_adm2021</th><th scope=col>applicants_women_adm2021</th><th scope=col>admissions_total_adm2021</th><th scope=col>admissions_men_adm2021</th><th scope=col>admissions_women_adm2021</th><th scope=col>enrolled_total_adm2021</th><th scope=col>enrolled_men_adm2021</th><th scope=col>⋯</th><th scope=col>applicants_total_ic2001</th><th scope=col>applicants_men_ic2001</th><th scope=col>applicants_women_ic2001</th><th scope=col>admissions_total_ic2001</th><th scope=col>admissions_men_ic2001</th><th scope=col>admissions_women_ic2001</th><th scope=col>enrolled_total_ic2001</th><th scope=col>enrolled_men_ic2001</th><th scope=col>enrolled_women_ic2001</th><th scope=col>x</th></tr>\n",
       "\t<tr><th scope=col>&lt;dbl&gt;</th><th scope=col>&lt;chr&gt;</th><th scope=col>&lt;dbl&gt;</th><th scope=col>&lt;dbl&gt;</th><th scope=col>&lt;dbl&gt;</th><th scope=col>&lt;dbl&gt;</th><th scope=col>&lt;dbl&gt;</th><th scope=col>&lt;dbl&gt;</th><th scope=col>&lt;dbl&gt;</th><th scope=col>&lt;dbl&gt;</th><th scope=col>⋯</th><th scope=col>&lt;dbl&gt;</th><th scope=col>&lt;dbl&gt;</th><th scope=col>&lt;dbl&gt;</th><th scope=col>&lt;dbl&gt;</th><th scope=col>&lt;dbl&gt;</th><th scope=col>&lt;dbl&gt;</th><th scope=col>&lt;dbl&gt;</th><th scope=col>&lt;dbl&gt;</th><th scope=col>&lt;dbl&gt;</th><th scope=col>&lt;lgl&gt;</th></tr>\n",
       "</thead>\n",
       "<tbody>\n",
       "\t<tr><td>217156</td><td>Brown University                           </td><td>46568</td><td>18032</td><td>28536</td><td>2568</td><td>1276</td><td>1292</td><td>1705</td><td> 859</td><td>⋯</td><td>16606</td><td>6860</td><td>9746</td><td>2693</td><td>1210</td><td>1483</td><td>1377</td><td> 616</td><td>761</td><td>NA</td></tr>\n",
       "\t<tr><td>190150</td><td>Columbia University in the City of New York</td><td>61110</td><td>25463</td><td>35647</td><td>2524</td><td>1231</td><td>1293</td><td>1641</td><td> 808</td><td>⋯</td><td>    0</td><td>  NA</td><td>  NA</td><td>   0</td><td>  NA</td><td>  NA</td><td>   0</td><td>   0</td><td>  0</td><td>NA</td></tr>\n",
       "\t<tr><td>190415</td><td>Cornell University                         </td><td>67380</td><td>33488</td><td>33892</td><td>5852</td><td>2613</td><td>3239</td><td>3718</td><td>1670</td><td>⋯</td><td>16538</td><td>9244</td><td>7294</td><td>4288</td><td>2393</td><td>1895</td><td>1950</td><td>1085</td><td>865</td><td>NA</td></tr>\n",
       "\t<tr><td>182670</td><td>Dartmouth College                          </td><td>28356</td><td>13256</td><td>15100</td><td>1750</td><td> 871</td><td> 879</td><td>1221</td><td> 598</td><td>⋯</td><td>10188</td><td>5579</td><td>4609</td><td>2181</td><td>1122</td><td>1059</td><td>1084</td><td> 569</td><td>515</td><td>NA</td></tr>\n",
       "\t<tr><td>166027</td><td>Harvard University                         </td><td>57786</td><td>26981</td><td>30805</td><td>2318</td><td>1100</td><td>1218</td><td>1951</td><td> 925</td><td>⋯</td><td>18932</td><td>9549</td><td>9383</td><td>2028</td><td>1040</td><td> 988</td><td>1563</td><td> 810</td><td>753</td><td>NA</td></tr>\n",
       "\t<tr><td>166683</td><td>Massachusetts Institute of Technology      </td><td>33240</td><td>21672</td><td>11568</td><td>1365</td><td> 665</td><td> 700</td><td>1177</td><td> 604</td><td>⋯</td><td>10490</td><td>7560</td><td>2930</td><td>1787</td><td> 968</td><td> 819</td><td>1030</td><td> 604</td><td>426</td><td>NA</td></tr>\n",
       "</tbody>\n",
       "</table>\n"
      ],
      "text/latex": [
       "A tibble: 6 × 192\n",
       "\\begin{tabular}{lllllllllllllllllllll}\n",
       " unit\\_id & institution\\_name & applicants\\_total\\_adm2021 & applicants\\_men\\_adm2021 & applicants\\_women\\_adm2021 & admissions\\_total\\_adm2021 & admissions\\_men\\_adm2021 & admissions\\_women\\_adm2021 & enrolled\\_total\\_adm2021 & enrolled\\_men\\_adm2021 & ⋯ & applicants\\_total\\_ic2001 & applicants\\_men\\_ic2001 & applicants\\_women\\_ic2001 & admissions\\_total\\_ic2001 & admissions\\_men\\_ic2001 & admissions\\_women\\_ic2001 & enrolled\\_total\\_ic2001 & enrolled\\_men\\_ic2001 & enrolled\\_women\\_ic2001 & x\\\\\n",
       " <dbl> & <chr> & <dbl> & <dbl> & <dbl> & <dbl> & <dbl> & <dbl> & <dbl> & <dbl> & ⋯ & <dbl> & <dbl> & <dbl> & <dbl> & <dbl> & <dbl> & <dbl> & <dbl> & <dbl> & <lgl>\\\\\n",
       "\\hline\n",
       "\t 217156 & Brown University                            & 46568 & 18032 & 28536 & 2568 & 1276 & 1292 & 1705 &  859 & ⋯ & 16606 & 6860 & 9746 & 2693 & 1210 & 1483 & 1377 &  616 & 761 & NA\\\\\n",
       "\t 190150 & Columbia University in the City of New York & 61110 & 25463 & 35647 & 2524 & 1231 & 1293 & 1641 &  808 & ⋯ &     0 &   NA &   NA &    0 &   NA &   NA &    0 &    0 &   0 & NA\\\\\n",
       "\t 190415 & Cornell University                          & 67380 & 33488 & 33892 & 5852 & 2613 & 3239 & 3718 & 1670 & ⋯ & 16538 & 9244 & 7294 & 4288 & 2393 & 1895 & 1950 & 1085 & 865 & NA\\\\\n",
       "\t 182670 & Dartmouth College                           & 28356 & 13256 & 15100 & 1750 &  871 &  879 & 1221 &  598 & ⋯ & 10188 & 5579 & 4609 & 2181 & 1122 & 1059 & 1084 &  569 & 515 & NA\\\\\n",
       "\t 166027 & Harvard University                          & 57786 & 26981 & 30805 & 2318 & 1100 & 1218 & 1951 &  925 & ⋯ & 18932 & 9549 & 9383 & 2028 & 1040 &  988 & 1563 &  810 & 753 & NA\\\\\n",
       "\t 166683 & Massachusetts Institute of Technology       & 33240 & 21672 & 11568 & 1365 &  665 &  700 & 1177 &  604 & ⋯ & 10490 & 7560 & 2930 & 1787 &  968 &  819 & 1030 &  604 & 426 & NA\\\\\n",
       "\\end{tabular}\n"
      ],
      "text/markdown": [
       "\n",
       "A tibble: 6 × 192\n",
       "\n",
       "| unit_id &lt;dbl&gt; | institution_name &lt;chr&gt; | applicants_total_adm2021 &lt;dbl&gt; | applicants_men_adm2021 &lt;dbl&gt; | applicants_women_adm2021 &lt;dbl&gt; | admissions_total_adm2021 &lt;dbl&gt; | admissions_men_adm2021 &lt;dbl&gt; | admissions_women_adm2021 &lt;dbl&gt; | enrolled_total_adm2021 &lt;dbl&gt; | enrolled_men_adm2021 &lt;dbl&gt; | ⋯ ⋯ | applicants_total_ic2001 &lt;dbl&gt; | applicants_men_ic2001 &lt;dbl&gt; | applicants_women_ic2001 &lt;dbl&gt; | admissions_total_ic2001 &lt;dbl&gt; | admissions_men_ic2001 &lt;dbl&gt; | admissions_women_ic2001 &lt;dbl&gt; | enrolled_total_ic2001 &lt;dbl&gt; | enrolled_men_ic2001 &lt;dbl&gt; | enrolled_women_ic2001 &lt;dbl&gt; | x &lt;lgl&gt; |\n",
       "|---|---|---|---|---|---|---|---|---|---|---|---|---|---|---|---|---|---|---|---|---|\n",
       "| 217156 | Brown University                            | 46568 | 18032 | 28536 | 2568 | 1276 | 1292 | 1705 |  859 | ⋯ | 16606 | 6860 | 9746 | 2693 | 1210 | 1483 | 1377 |  616 | 761 | NA |\n",
       "| 190150 | Columbia University in the City of New York | 61110 | 25463 | 35647 | 2524 | 1231 | 1293 | 1641 |  808 | ⋯ |     0 |   NA |   NA |    0 |   NA |   NA |    0 |    0 |   0 | NA |\n",
       "| 190415 | Cornell University                          | 67380 | 33488 | 33892 | 5852 | 2613 | 3239 | 3718 | 1670 | ⋯ | 16538 | 9244 | 7294 | 4288 | 2393 | 1895 | 1950 | 1085 | 865 | NA |\n",
       "| 182670 | Dartmouth College                           | 28356 | 13256 | 15100 | 1750 |  871 |  879 | 1221 |  598 | ⋯ | 10188 | 5579 | 4609 | 2181 | 1122 | 1059 | 1084 |  569 | 515 | NA |\n",
       "| 166027 | Harvard University                          | 57786 | 26981 | 30805 | 2318 | 1100 | 1218 | 1951 |  925 | ⋯ | 18932 | 9549 | 9383 | 2028 | 1040 |  988 | 1563 |  810 | 753 | NA |\n",
       "| 166683 | Massachusetts Institute of Technology       | 33240 | 21672 | 11568 | 1365 |  665 |  700 | 1177 |  604 | ⋯ | 10490 | 7560 | 2930 | 1787 |  968 |  819 | 1030 |  604 | 426 | NA |\n",
       "\n"
      ],
      "text/plain": [
       "  unit_id institution_name                            applicants_total_adm2021\n",
       "1 217156  Brown University                            46568                   \n",
       "2 190150  Columbia University in the City of New York 61110                   \n",
       "3 190415  Cornell University                          67380                   \n",
       "4 182670  Dartmouth College                           28356                   \n",
       "5 166027  Harvard University                          57786                   \n",
       "6 166683  Massachusetts Institute of Technology       33240                   \n",
       "  applicants_men_adm2021 applicants_women_adm2021 admissions_total_adm2021\n",
       "1 18032                  28536                    2568                    \n",
       "2 25463                  35647                    2524                    \n",
       "3 33488                  33892                    5852                    \n",
       "4 13256                  15100                    1750                    \n",
       "5 26981                  30805                    2318                    \n",
       "6 21672                  11568                    1365                    \n",
       "  admissions_men_adm2021 admissions_women_adm2021 enrolled_total_adm2021\n",
       "1 1276                   1292                     1705                  \n",
       "2 1231                   1293                     1641                  \n",
       "3 2613                   3239                     3718                  \n",
       "4  871                    879                     1221                  \n",
       "5 1100                   1218                     1951                  \n",
       "6  665                    700                     1177                  \n",
       "  enrolled_men_adm2021 ⋯ applicants_total_ic2001 applicants_men_ic2001\n",
       "1  859                 ⋯ 16606                   6860                 \n",
       "2  808                 ⋯     0                     NA                 \n",
       "3 1670                 ⋯ 16538                   9244                 \n",
       "4  598                 ⋯ 10188                   5579                 \n",
       "5  925                 ⋯ 18932                   9549                 \n",
       "6  604                 ⋯ 10490                   7560                 \n",
       "  applicants_women_ic2001 admissions_total_ic2001 admissions_men_ic2001\n",
       "1 9746                    2693                    1210                 \n",
       "2   NA                       0                      NA                 \n",
       "3 7294                    4288                    2393                 \n",
       "4 4609                    2181                    1122                 \n",
       "5 9383                    2028                    1040                 \n",
       "6 2930                    1787                     968                 \n",
       "  admissions_women_ic2001 enrolled_total_ic2001 enrolled_men_ic2001\n",
       "1 1483                    1377                   616               \n",
       "2   NA                       0                     0               \n",
       "3 1895                    1950                  1085               \n",
       "4 1059                    1084                   569               \n",
       "5  988                    1563                   810               \n",
       "6  819                    1030                   604               \n",
       "  enrolled_women_ic2001 x \n",
       "1 761                   NA\n",
       "2   0                   NA\n",
       "3 865                   NA\n",
       "4 515                   NA\n",
       "5 753                   NA\n",
       "6 426                   NA"
      ]
     },
     "metadata": {},
     "output_type": "display_data"
    }
   ],
   "source": [
    "df <- read_csv('data/ipeds_admissions_data.csv', name_repair = janitor::make_clean_names)\n",
    "\n",
    "head(df)"
   ]
  },
  {
   "cell_type": "markdown",
   "metadata": {},
   "source": [
    "### Wide to Long"
   ]
  },
  {
   "cell_type": "markdown",
   "metadata": {},
   "source": [
    "First need to drop last column that seems to always be added to these downloads. Then we will pivot the data so that we can extract the Year and the items from the default column names."
   ]
  },
  {
   "cell_type": "code",
   "execution_count": 52,
   "metadata": {
    "vscode": {
     "languageId": "r"
    }
   },
   "outputs": [
    {
     "data": {
      "text/html": [
       "<table class=\"dataframe\">\n",
       "<caption>A tibble: 6 × 4</caption>\n",
       "<thead>\n",
       "\t<tr><th scope=col>unit_id</th><th scope=col>institution_name</th><th scope=col>Item</th><th scope=col>Value</th></tr>\n",
       "\t<tr><th scope=col>&lt;dbl&gt;</th><th scope=col>&lt;chr&gt;</th><th scope=col>&lt;chr&gt;</th><th scope=col>&lt;dbl&gt;</th></tr>\n",
       "</thead>\n",
       "<tbody>\n",
       "\t<tr><td>217156</td><td>Brown University</td><td>applicants_total_adm2021</td><td>46568</td></tr>\n",
       "\t<tr><td>217156</td><td>Brown University</td><td>applicants_men_adm2021  </td><td>18032</td></tr>\n",
       "\t<tr><td>217156</td><td>Brown University</td><td>applicants_women_adm2021</td><td>28536</td></tr>\n",
       "\t<tr><td>217156</td><td>Brown University</td><td>admissions_total_adm2021</td><td> 2568</td></tr>\n",
       "\t<tr><td>217156</td><td>Brown University</td><td>admissions_men_adm2021  </td><td> 1276</td></tr>\n",
       "\t<tr><td>217156</td><td>Brown University</td><td>admissions_women_adm2021</td><td> 1292</td></tr>\n",
       "</tbody>\n",
       "</table>\n"
      ],
      "text/latex": [
       "A tibble: 6 × 4\n",
       "\\begin{tabular}{llll}\n",
       " unit\\_id & institution\\_name & Item & Value\\\\\n",
       " <dbl> & <chr> & <chr> & <dbl>\\\\\n",
       "\\hline\n",
       "\t 217156 & Brown University & applicants\\_total\\_adm2021 & 46568\\\\\n",
       "\t 217156 & Brown University & applicants\\_men\\_adm2021   & 18032\\\\\n",
       "\t 217156 & Brown University & applicants\\_women\\_adm2021 & 28536\\\\\n",
       "\t 217156 & Brown University & admissions\\_total\\_adm2021 &  2568\\\\\n",
       "\t 217156 & Brown University & admissions\\_men\\_adm2021   &  1276\\\\\n",
       "\t 217156 & Brown University & admissions\\_women\\_adm2021 &  1292\\\\\n",
       "\\end{tabular}\n"
      ],
      "text/markdown": [
       "\n",
       "A tibble: 6 × 4\n",
       "\n",
       "| unit_id &lt;dbl&gt; | institution_name &lt;chr&gt; | Item &lt;chr&gt; | Value &lt;dbl&gt; |\n",
       "|---|---|---|---|\n",
       "| 217156 | Brown University | applicants_total_adm2021 | 46568 |\n",
       "| 217156 | Brown University | applicants_men_adm2021   | 18032 |\n",
       "| 217156 | Brown University | applicants_women_adm2021 | 28536 |\n",
       "| 217156 | Brown University | admissions_total_adm2021 |  2568 |\n",
       "| 217156 | Brown University | admissions_men_adm2021   |  1276 |\n",
       "| 217156 | Brown University | admissions_women_adm2021 |  1292 |\n",
       "\n"
      ],
      "text/plain": [
       "  unit_id institution_name Item                     Value\n",
       "1 217156  Brown University applicants_total_adm2021 46568\n",
       "2 217156  Brown University applicants_men_adm2021   18032\n",
       "3 217156  Brown University applicants_women_adm2021 28536\n",
       "4 217156  Brown University admissions_total_adm2021  2568\n",
       "5 217156  Brown University admissions_men_adm2021    1276\n",
       "6 217156  Brown University admissions_women_adm2021  1292"
      ]
     },
     "metadata": {},
     "output_type": "display_data"
    }
   ],
   "source": [
    "dfl <- df %>% \n",
    "  select(-last_col()) %>% \n",
    "  pivot_longer(-c(unit_id, institution_name), names_to = 'Item', values_to = 'Value')\n",
    "\n",
    "head(dfl)"
   ]
  },
  {
   "cell_type": "markdown",
   "metadata": {},
   "source": [
    "There are many ways we could parse `Item` to get information we need. Here is a simple way to get the year and group. "
   ]
  },
  {
   "cell_type": "code",
   "execution_count": 53,
   "metadata": {
    "vscode": {
     "languageId": "r"
    }
   },
   "outputs": [
    {
     "data": {
      "text/plain": [
       "\n",
       "2001 2002 2003 2004 2005 2006 2007 2008 2009 2010 2011 2012 2013 2014 2015 2016 \n",
       "  99   99   99   99   99   99   99   99   99   99   99   99   99   99   99   99 \n",
       "2017 2018 2019 2020 2021 \n",
       "  99   99   99   99   99 "
      ]
     },
     "metadata": {},
     "output_type": "display_data"
    },
    {
     "data": {
      "text/plain": [
       "\n",
       "admissions applicants   enrolled \n",
       "       693        693        693 "
      ]
     },
     "metadata": {},
     "output_type": "display_data"
    }
   ],
   "source": [
    "dfl2 <- dfl %>% \n",
    "  mutate(\n",
    "    # get digits\n",
    "    Year = str_extract(Item, \"\\\\d+\"),\n",
    "    # first group of letters\n",
    "    adm_group = str_extract(Item, \"^([a-z]+)\")\n",
    "         )\n",
    "\n",
    "# print values extracted\n",
    "table(dfl2$Year); table(dfl2$adm_group)"
   ]
  },
  {
   "cell_type": "code",
   "execution_count": 54,
   "metadata": {
    "vscode": {
     "languageId": "r"
    }
   },
   "outputs": [
    {
     "data": {
      "text/html": [
       "<table class=\"dataframe\">\n",
       "<caption>A tibble: 6 × 6</caption>\n",
       "<thead>\n",
       "\t<tr><th scope=col>unit_id</th><th scope=col>institution_name</th><th scope=col>Item</th><th scope=col>Value</th><th scope=col>Year</th><th scope=col>adm_group</th></tr>\n",
       "\t<tr><th scope=col>&lt;dbl&gt;</th><th scope=col>&lt;chr&gt;</th><th scope=col>&lt;chr&gt;</th><th scope=col>&lt;dbl&gt;</th><th scope=col>&lt;chr&gt;</th><th scope=col>&lt;chr&gt;</th></tr>\n",
       "</thead>\n",
       "<tbody>\n",
       "\t<tr><td>217156</td><td>Brown University</td><td>applicants_total_adm2021</td><td>46568</td><td>2021</td><td>applicants</td></tr>\n",
       "\t<tr><td>217156</td><td>Brown University</td><td>applicants_men_adm2021  </td><td>18032</td><td>2021</td><td>applicants</td></tr>\n",
       "\t<tr><td>217156</td><td>Brown University</td><td>applicants_women_adm2021</td><td>28536</td><td>2021</td><td>applicants</td></tr>\n",
       "\t<tr><td>217156</td><td>Brown University</td><td>admissions_total_adm2021</td><td> 2568</td><td>2021</td><td>admissions</td></tr>\n",
       "\t<tr><td>217156</td><td>Brown University</td><td>admissions_men_adm2021  </td><td> 1276</td><td>2021</td><td>admissions</td></tr>\n",
       "\t<tr><td>217156</td><td>Brown University</td><td>admissions_women_adm2021</td><td> 1292</td><td>2021</td><td>admissions</td></tr>\n",
       "</tbody>\n",
       "</table>\n"
      ],
      "text/latex": [
       "A tibble: 6 × 6\n",
       "\\begin{tabular}{llllll}\n",
       " unit\\_id & institution\\_name & Item & Value & Year & adm\\_group\\\\\n",
       " <dbl> & <chr> & <chr> & <dbl> & <chr> & <chr>\\\\\n",
       "\\hline\n",
       "\t 217156 & Brown University & applicants\\_total\\_adm2021 & 46568 & 2021 & applicants\\\\\n",
       "\t 217156 & Brown University & applicants\\_men\\_adm2021   & 18032 & 2021 & applicants\\\\\n",
       "\t 217156 & Brown University & applicants\\_women\\_adm2021 & 28536 & 2021 & applicants\\\\\n",
       "\t 217156 & Brown University & admissions\\_total\\_adm2021 &  2568 & 2021 & admissions\\\\\n",
       "\t 217156 & Brown University & admissions\\_men\\_adm2021   &  1276 & 2021 & admissions\\\\\n",
       "\t 217156 & Brown University & admissions\\_women\\_adm2021 &  1292 & 2021 & admissions\\\\\n",
       "\\end{tabular}\n"
      ],
      "text/markdown": [
       "\n",
       "A tibble: 6 × 6\n",
       "\n",
       "| unit_id &lt;dbl&gt; | institution_name &lt;chr&gt; | Item &lt;chr&gt; | Value &lt;dbl&gt; | Year &lt;chr&gt; | adm_group &lt;chr&gt; |\n",
       "|---|---|---|---|---|---|\n",
       "| 217156 | Brown University | applicants_total_adm2021 | 46568 | 2021 | applicants |\n",
       "| 217156 | Brown University | applicants_men_adm2021   | 18032 | 2021 | applicants |\n",
       "| 217156 | Brown University | applicants_women_adm2021 | 28536 | 2021 | applicants |\n",
       "| 217156 | Brown University | admissions_total_adm2021 |  2568 | 2021 | admissions |\n",
       "| 217156 | Brown University | admissions_men_adm2021   |  1276 | 2021 | admissions |\n",
       "| 217156 | Brown University | admissions_women_adm2021 |  1292 | 2021 | admissions |\n",
       "\n"
      ],
      "text/plain": [
       "  unit_id institution_name Item                     Value Year adm_group \n",
       "1 217156  Brown University applicants_total_adm2021 46568 2021 applicants\n",
       "2 217156  Brown University applicants_men_adm2021   18032 2021 applicants\n",
       "3 217156  Brown University applicants_women_adm2021 28536 2021 applicants\n",
       "4 217156  Brown University admissions_total_adm2021  2568 2021 admissions\n",
       "5 217156  Brown University admissions_men_adm2021    1276 2021 admissions\n",
       "6 217156  Brown University admissions_women_adm2021  1292 2021 admissions"
      ]
     },
     "metadata": {},
     "output_type": "display_data"
    }
   ],
   "source": [
    "head(dfl2)"
   ]
  },
  {
   "cell_type": "markdown",
   "metadata": {},
   "source": [
    "In this example, we'll then just use the totals"
   ]
  },
  {
   "cell_type": "code",
   "execution_count": 55,
   "metadata": {
    "vscode": {
     "languageId": "r"
    }
   },
   "outputs": [
    {
     "data": {
      "text/html": [
       "<table class=\"dataframe\">\n",
       "<caption>A tibble: 6 × 4</caption>\n",
       "<thead>\n",
       "\t<tr><th scope=col>institution_name</th><th scope=col>Value</th><th scope=col>Year</th><th scope=col>adm_group</th></tr>\n",
       "\t<tr><th scope=col>&lt;chr&gt;</th><th scope=col>&lt;dbl&gt;</th><th scope=col>&lt;chr&gt;</th><th scope=col>&lt;chr&gt;</th></tr>\n",
       "</thead>\n",
       "<tbody>\n",
       "\t<tr><td>Brown University</td><td>46568</td><td>2021</td><td>applicants</td></tr>\n",
       "\t<tr><td>Brown University</td><td> 2568</td><td>2021</td><td>admissions</td></tr>\n",
       "\t<tr><td>Brown University</td><td> 1705</td><td>2021</td><td>enrolled  </td></tr>\n",
       "\t<tr><td>Brown University</td><td>36793</td><td>2020</td><td>applicants</td></tr>\n",
       "\t<tr><td>Brown University</td><td> 2822</td><td>2020</td><td>admissions</td></tr>\n",
       "\t<tr><td>Brown University</td><td> 1756</td><td>2020</td><td>enrolled  </td></tr>\n",
       "</tbody>\n",
       "</table>\n"
      ],
      "text/latex": [
       "A tibble: 6 × 4\n",
       "\\begin{tabular}{llll}\n",
       " institution\\_name & Value & Year & adm\\_group\\\\\n",
       " <chr> & <dbl> & <chr> & <chr>\\\\\n",
       "\\hline\n",
       "\t Brown University & 46568 & 2021 & applicants\\\\\n",
       "\t Brown University &  2568 & 2021 & admissions\\\\\n",
       "\t Brown University &  1705 & 2021 & enrolled  \\\\\n",
       "\t Brown University & 36793 & 2020 & applicants\\\\\n",
       "\t Brown University &  2822 & 2020 & admissions\\\\\n",
       "\t Brown University &  1756 & 2020 & enrolled  \\\\\n",
       "\\end{tabular}\n"
      ],
      "text/markdown": [
       "\n",
       "A tibble: 6 × 4\n",
       "\n",
       "| institution_name &lt;chr&gt; | Value &lt;dbl&gt; | Year &lt;chr&gt; | adm_group &lt;chr&gt; |\n",
       "|---|---|---|---|\n",
       "| Brown University | 46568 | 2021 | applicants |\n",
       "| Brown University |  2568 | 2021 | admissions |\n",
       "| Brown University |  1705 | 2021 | enrolled   |\n",
       "| Brown University | 36793 | 2020 | applicants |\n",
       "| Brown University |  2822 | 2020 | admissions |\n",
       "| Brown University |  1756 | 2020 | enrolled   |\n",
       "\n"
      ],
      "text/plain": [
       "  institution_name Value Year adm_group \n",
       "1 Brown University 46568 2021 applicants\n",
       "2 Brown University  2568 2021 admissions\n",
       "3 Brown University  1705 2021 enrolled  \n",
       "4 Brown University 36793 2020 applicants\n",
       "5 Brown University  2822 2020 admissions\n",
       "6 Brown University  1756 2020 enrolled  "
      ]
     },
     "metadata": {},
     "output_type": "display_data"
    }
   ],
   "source": [
    "dfl2 %>% \n",
    "  filter(str_detect(Item, \"total\")) %>% \n",
    "  select(-unit_id, -Item) %>% \n",
    "  head"
   ]
  }
 ],
 "metadata": {
  "kernelspec": {
   "display_name": "R",
   "language": "R",
   "name": "ir"
  },
  "language_info": {
   "codemirror_mode": "r",
   "file_extension": ".r",
   "mimetype": "text/x-r-source",
   "name": "R",
   "pygments_lexer": "r",
   "version": "4.3.2"
  }
 },
 "nbformat": 4,
 "nbformat_minor": 2
}
