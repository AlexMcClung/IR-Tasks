{
 "cells": [
  {
   "cell_type": "markdown",
   "metadata": {},
   "source": [
    "# Creating class section size bands for the Common Data Set"
   ]
  },
  {
   "cell_type": "markdown",
   "metadata": {},
   "source": [
    "### Simulate some data"
   ]
  },
  {
   "cell_type": "code",
   "execution_count": 6,
   "metadata": {
    "vscode": {
     "languageId": "r"
    }
   },
   "outputs": [
    {
     "data": {
      "text/html": [
       "<table class=\"dataframe\">\n",
       "<caption>A data.frame: 6 × 3</caption>\n",
       "<thead>\n",
       "\t<tr><th></th><th scope=col>SUBJ</th><th scope=col>NUMB</th><th scope=col>ENROLLMENT</th></tr>\n",
       "\t<tr><th></th><th scope=col>&lt;chr&gt;</th><th scope=col>&lt;dbl&gt;</th><th scope=col>&lt;int&gt;</th></tr>\n",
       "</thead>\n",
       "<tbody>\n",
       "\t<tr><th scope=row>1</th><td>CHEM</td><td>101</td><td> 79</td></tr>\n",
       "\t<tr><th scope=row>2</th><td>HIST</td><td>101</td><td> 80</td></tr>\n",
       "\t<tr><th scope=row>3</th><td>PSCI</td><td>401</td><td>103</td></tr>\n",
       "\t<tr><th scope=row>4</th><td>SPAN</td><td>301</td><td> 71</td></tr>\n",
       "\t<tr><th scope=row>5</th><td>PSCI</td><td>201</td><td>  2</td></tr>\n",
       "\t<tr><th scope=row>6</th><td>CHEM</td><td>201</td><td> 68</td></tr>\n",
       "</tbody>\n",
       "</table>\n"
      ],
      "text/latex": [
       "A data.frame: 6 × 3\n",
       "\\begin{tabular}{r|lll}\n",
       "  & SUBJ & NUMB & ENROLLMENT\\\\\n",
       "  & <chr> & <dbl> & <int>\\\\\n",
       "\\hline\n",
       "\t1 & CHEM & 101 &  79\\\\\n",
       "\t2 & HIST & 101 &  80\\\\\n",
       "\t3 & PSCI & 401 & 103\\\\\n",
       "\t4 & SPAN & 301 &  71\\\\\n",
       "\t5 & PSCI & 201 &   2\\\\\n",
       "\t6 & CHEM & 201 &  68\\\\\n",
       "\\end{tabular}\n"
      ],
      "text/markdown": [
       "\n",
       "A data.frame: 6 × 3\n",
       "\n",
       "| <!--/--> | SUBJ &lt;chr&gt; | NUMB &lt;dbl&gt; | ENROLLMENT &lt;int&gt; |\n",
       "|---|---|---|---|\n",
       "| 1 | CHEM | 101 |  79 |\n",
       "| 2 | HIST | 101 |  80 |\n",
       "| 3 | PSCI | 401 | 103 |\n",
       "| 4 | SPAN | 301 |  71 |\n",
       "| 5 | PSCI | 201 |   2 |\n",
       "| 6 | CHEM | 201 |  68 |\n",
       "\n"
      ],
      "text/plain": [
       "  SUBJ NUMB ENROLLMENT\n",
       "1 CHEM 101   79       \n",
       "2 HIST 101   80       \n",
       "3 PSCI 401  103       \n",
       "4 SPAN 301   71       \n",
       "5 PSCI 201    2       \n",
       "6 CHEM 201   68       "
      ]
     },
     "metadata": {},
     "output_type": "display_data"
    }
   ],
   "source": [
    "df <- data.frame(\n",
    "    SUBJ = sample(c(\"BIOL\", \"CHEM\", \"ENGL\", \"SOC\", \"PSCI\", \"ECON\", \"HIST\", \"SPAN\"),\n",
    "        size = 50, replace = TRUE\n",
    "    ),\n",
    "    NUMB = sample(c(101, 201, 301, 401), size = 50, replace = TRUE),\n",
    "    ENROLLMENT = sample(2:120, size = 50)\n",
    ")\n",
    "\n",
    "head(df)"
   ]
  },
  {
   "cell_type": "markdown",
   "metadata": {},
   "source": [
    "### Base R solution"
   ]
  },
  {
   "cell_type": "code",
   "execution_count": 7,
   "metadata": {
    "vscode": {
     "languageId": "r"
    }
   },
   "outputs": [
    {
     "data": {
      "text/plain": [
       "\n",
       "  2-9 10-19 20-29 30-39 40-49 50-99  100+ \n",
       "    5     3     3     3     5    23     8 "
      ]
     },
     "metadata": {},
     "output_type": "display_data"
    }
   ],
   "source": [
    "df$SizeBand[df$ENROLLMENT <= 9] <- '2-9' \n",
    "df$SizeBand[df$ENROLLMENT >= 10 & df$ENROLLMENT <= 19] <- '10-19'\n",
    "df$SizeBand[df$ENROLLMENT >= 20 & df$ENROLLMENT <= 29] <- '20-29'\n",
    "df$SizeBand[df$ENROLLMENT >= 30 & df$ENROLLMENT <= 39] <- '30-39'\n",
    "df$SizeBand[df$ENROLLMENT >= 40 & df$ENROLLMENT <= 49] <- '40-49'\n",
    "df$SizeBand[df$ENROLLMENT >= 50 & df$ENROLLMENT <= 99] <- '50-99'\n",
    "df$SizeBand[df$ENROLLMENT >= 100] <- '100+'\n",
    "\n",
    "df$SizeBand <- factor(\n",
    "    df$SizeBand, \n",
    "    levels = c('2-9', '10-19', '20-29', '30-39', '40-49', '50-99', '100+')\n",
    "    )\n",
    "\n",
    "table(df$SizeBand, useNA = 'ifany')"
   ]
  },
  {
   "cell_type": "markdown",
   "metadata": {},
   "source": [
    "### Tidyverse solution"
   ]
  },
  {
   "cell_type": "code",
   "execution_count": 8,
   "metadata": {
    "vscode": {
     "languageId": "r"
    }
   },
   "outputs": [
    {
     "data": {
      "text/html": [
       "<table class=\"dataframe\">\n",
       "<caption>A data.frame: 7 × 2</caption>\n",
       "<thead>\n",
       "\t<tr><th scope=col>SizeBand</th><th scope=col>n</th></tr>\n",
       "\t<tr><th scope=col>&lt;fct&gt;</th><th scope=col>&lt;int&gt;</th></tr>\n",
       "</thead>\n",
       "<tbody>\n",
       "\t<tr><td>2-9  </td><td> 5</td></tr>\n",
       "\t<tr><td>10-19</td><td> 3</td></tr>\n",
       "\t<tr><td>20-29</td><td> 3</td></tr>\n",
       "\t<tr><td>30-39</td><td> 3</td></tr>\n",
       "\t<tr><td>40-49</td><td> 5</td></tr>\n",
       "\t<tr><td>50-99</td><td>23</td></tr>\n",
       "\t<tr><td>100+ </td><td> 8</td></tr>\n",
       "</tbody>\n",
       "</table>\n"
      ],
      "text/latex": [
       "A data.frame: 7 × 2\n",
       "\\begin{tabular}{ll}\n",
       " SizeBand & n\\\\\n",
       " <fct> & <int>\\\\\n",
       "\\hline\n",
       "\t 2-9   &  5\\\\\n",
       "\t 10-19 &  3\\\\\n",
       "\t 20-29 &  3\\\\\n",
       "\t 30-39 &  3\\\\\n",
       "\t 40-49 &  5\\\\\n",
       "\t 50-99 & 23\\\\\n",
       "\t 100+  &  8\\\\\n",
       "\\end{tabular}\n"
      ],
      "text/markdown": [
       "\n",
       "A data.frame: 7 × 2\n",
       "\n",
       "| SizeBand &lt;fct&gt; | n &lt;int&gt; |\n",
       "|---|---|\n",
       "| 2-9   |  5 |\n",
       "| 10-19 |  3 |\n",
       "| 20-29 |  3 |\n",
       "| 30-39 |  3 |\n",
       "| 40-49 |  5 |\n",
       "| 50-99 | 23 |\n",
       "| 100+  |  8 |\n",
       "\n"
      ],
      "text/plain": [
       "  SizeBand n \n",
       "1 2-9       5\n",
       "2 10-19     3\n",
       "3 20-29     3\n",
       "4 30-39     3\n",
       "5 40-49     5\n",
       "6 50-99    23\n",
       "7 100+      8"
      ]
     },
     "metadata": {},
     "output_type": "display_data"
    }
   ],
   "source": [
    "library(tidyverse)\n",
    "\n",
    "df %>% \n",
    "  mutate(\n",
    "    SizeBand = case_when(\n",
    "      ENROLLMENT <= 9 ~ '2-9',\n",
    "      ENROLLMENT >= 10 & ENROLLMENT <= 19 ~ '10-19',\n",
    "      ENROLLMENT >= 20 & ENROLLMENT <= 29 ~ '20-29',\n",
    "      ENROLLMENT >= 30 & ENROLLMENT <= 39 ~ '30-39',\n",
    "      ENROLLMENT >= 40 & ENROLLMENT <= 49 ~ '40-49',\n",
    "      ENROLLMENT >= 50 & ENROLLMENT <= 99 ~ '50-99',\n",
    "      ENROLLMENT >= 100 ~ '100+',\n",
    "      TRUE ~ 'CHECK'\n",
    "      ),\n",
    "    SizeBand = fct_relevel(SizeBand, '2-9'),\n",
    "    SizeBand = fct_relevel(SizeBand, '100+', after=Inf)\n",
    "  ) %>% \n",
    "  count(SizeBand)"
   ]
  }
 ],
 "metadata": {
  "kernelspec": {
   "display_name": "R",
   "language": "R",
   "name": "ir"
  },
  "language_info": {
   "codemirror_mode": "r",
   "file_extension": ".r",
   "mimetype": "text/x-r-source",
   "name": "R",
   "pygments_lexer": "r",
   "version": "4.3.2"
  }
 },
 "nbformat": 4,
 "nbformat_minor": 2
}
