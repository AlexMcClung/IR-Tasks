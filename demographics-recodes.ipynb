{
  "cells": [
    {
      "cell_type": "markdown",
      "metadata": {
        "id": "OG8L3tXS6PbW"
      },
      "source": [
        "# Demographics Recoding Examples"
      ]
    },
    {
      "cell_type": "code",
      "execution_count": 1,
      "metadata": {
        "colab": {
          "base_uri": "https://localhost:8080/"
        },
        "id": "wq51NcWF8ClP",
        "outputId": "1495e3da-dcd3-471d-aa3d-cbbc2c99730c",
        "vscode": {
          "languageId": "r"
        }
      },
      "outputs": [
        {
          "name": "stderr",
          "output_type": "stream",
          "text": [
            "── \u001b[1mAttaching core tidyverse packages\u001b[22m ──────────────────────── tidyverse 2.0.0 ──\n",
            "\u001b[32m✔\u001b[39m \u001b[34mdplyr    \u001b[39m 1.1.4     \u001b[32m✔\u001b[39m \u001b[34mreadr    \u001b[39m 2.1.4\n",
            "\u001b[32m✔\u001b[39m \u001b[34mforcats  \u001b[39m 1.0.0     \u001b[32m✔\u001b[39m \u001b[34mstringr  \u001b[39m 1.5.1\n",
            "\u001b[32m✔\u001b[39m \u001b[34mggplot2  \u001b[39m 3.4.4     \u001b[32m✔\u001b[39m \u001b[34mtibble   \u001b[39m 3.2.1\n",
            "\u001b[32m✔\u001b[39m \u001b[34mlubridate\u001b[39m 1.9.3     \u001b[32m✔\u001b[39m \u001b[34mtidyr    \u001b[39m 1.3.0\n",
            "\u001b[32m✔\u001b[39m \u001b[34mpurrr    \u001b[39m 1.0.2     \n",
            "── \u001b[1mConflicts\u001b[22m ────────────────────────────────────────── tidyverse_conflicts() ──\n",
            "\u001b[31m✖\u001b[39m \u001b[34mdplyr\u001b[39m::\u001b[32mfilter()\u001b[39m masks \u001b[34mstats\u001b[39m::filter()\n",
            "\u001b[31m✖\u001b[39m \u001b[34mdplyr\u001b[39m::\u001b[32mlag()\u001b[39m    masks \u001b[34mstats\u001b[39m::lag()\n",
            "\u001b[36mℹ\u001b[39m Use the conflicted package (\u001b[3m\u001b[34m<http://conflicted.r-lib.org/>\u001b[39m\u001b[23m) to force all conflicts to become errors\n"
          ]
        }
      ],
      "source": [
        "library(tidyverse)"
      ]
    },
    {
      "cell_type": "markdown",
      "metadata": {
        "id": "GWYT6dz67xqD"
      },
      "source": [
        "### Simulate some data"
      ]
    },
    {
      "cell_type": "code",
      "execution_count": 2,
      "metadata": {
        "colab": {
          "base_uri": "https://localhost:8080/",
          "height": 286
        },
        "id": "8tQBNl-G6v5J",
        "outputId": "7d64095a-6f8d-4a85-89ca-782217f00053",
        "vscode": {
          "languageId": "r"
        }
      },
      "outputs": [
        {
          "data": {
            "text/html": [
              "<table class=\"dataframe\">\n",
              "<caption>A data.frame: 6 × 3</caption>\n",
              "<thead>\n",
              "\t<tr><th></th><th scope=col>PIDM</th><th scope=col>gender</th><th scope=col>raceethn</th></tr>\n",
              "\t<tr><th></th><th scope=col>&lt;int&gt;</th><th scope=col>&lt;chr&gt;</th><th scope=col>&lt;chr&gt;</th></tr>\n",
              "</thead>\n",
              "<tbody>\n",
              "\t<tr><th scope=row>1</th><td>1</td><td>M</td><td>Black or African American        </td></tr>\n",
              "\t<tr><th scope=row>2</th><td>2</td><td>W</td><td>American Indian or Alaskan Native</td></tr>\n",
              "\t<tr><th scope=row>3</th><td>3</td><td>M</td><td>American Indian or Alaskan Native</td></tr>\n",
              "\t<tr><th scope=row>4</th><td>4</td><td>W</td><td>More Than One Race               </td></tr>\n",
              "\t<tr><th scope=row>5</th><td>5</td><td>M</td><td>Black or African American        </td></tr>\n",
              "\t<tr><th scope=row>6</th><td>6</td><td>W</td><td>American Indian or Alaskan Native</td></tr>\n",
              "</tbody>\n",
              "</table>\n"
            ],
            "text/latex": [
              "A data.frame: 6 × 3\n",
              "\\begin{tabular}{r|lll}\n",
              "  & PIDM & gender & raceethn\\\\\n",
              "  & <int> & <chr> & <chr>\\\\\n",
              "\\hline\n",
              "\t1 & 1 & M & Black or African American        \\\\\n",
              "\t2 & 2 & W & American Indian or Alaskan Native\\\\\n",
              "\t3 & 3 & M & American Indian or Alaskan Native\\\\\n",
              "\t4 & 4 & W & More Than One Race               \\\\\n",
              "\t5 & 5 & M & Black or African American        \\\\\n",
              "\t6 & 6 & W & American Indian or Alaskan Native\\\\\n",
              "\\end{tabular}\n"
            ],
            "text/markdown": [
              "\n",
              "A data.frame: 6 × 3\n",
              "\n",
              "| <!--/--> | PIDM &lt;int&gt; | gender &lt;chr&gt; | raceethn &lt;chr&gt; |\n",
              "|---|---|---|---|\n",
              "| 1 | 1 | M | Black or African American         |\n",
              "| 2 | 2 | W | American Indian or Alaskan Native |\n",
              "| 3 | 3 | M | American Indian or Alaskan Native |\n",
              "| 4 | 4 | W | More Than One Race                |\n",
              "| 5 | 5 | M | Black or African American         |\n",
              "| 6 | 6 | W | American Indian or Alaskan Native |\n",
              "\n"
            ],
            "text/plain": [
              "  PIDM gender raceethn                         \n",
              "1 1    M      Black or African American        \n",
              "2 2    W      American Indian or Alaskan Native\n",
              "3 3    M      American Indian or Alaskan Native\n",
              "4 4    W      More Than One Race               \n",
              "5 5    M      Black or African American        \n",
              "6 6    W      American Indian or Alaskan Native"
            ]
          },
          "metadata": {},
          "output_type": "display_data"
        }
      ],
      "source": [
        "df <- data.frame(\n",
        "  PIDM = 1:50,\n",
        "  gender = sample(c('M','W','N'), 50, replace = TRUE),\n",
        "  raceethn = sample(c('Non-Resident Alien', 'Hispanic', 'American Indian or Alaskan Native',\n",
        "  'Asian', 'Black or African American','White', 'More Than One Race', 'Unknown'),\n",
        "  50, replace = TRUE)\n",
        ")\n",
        "\n",
        "head(df)"
      ]
    },
    {
      "cell_type": "code",
      "execution_count": 3,
      "metadata": {
        "colab": {
          "base_uri": "https://localhost:8080/",
          "height": 69
        },
        "id": "seWqVxAG88Fy",
        "outputId": "af40e221-391a-4f2a-bdc5-06b0e628b8fa",
        "vscode": {
          "languageId": "r"
        }
      },
      "outputs": [
        {
          "data": {
            "text/plain": [
              "\n",
              " M  N  W \n",
              "18 16 16 "
            ]
          },
          "metadata": {},
          "output_type": "display_data"
        }
      ],
      "source": [
        "table(df$gender, useNA = 'ifany')"
      ]
    },
    {
      "cell_type": "code",
      "execution_count": 4,
      "metadata": {
        "colab": {
          "base_uri": "https://localhost:8080/",
          "height": 173
        },
        "id": "8Q4b5Kg99Byw",
        "outputId": "009fe2c1-ba5b-45d0-fb8c-62efeda40261",
        "vscode": {
          "languageId": "r"
        }
      },
      "outputs": [
        {
          "data": {
            "text/plain": [
              "\n",
              "American Indian or Alaskan Native                             Asian \n",
              "                                6                                 8 \n",
              "        Black or African American                          Hispanic \n",
              "                                6                                 5 \n",
              "               More Than One Race                Non-Resident Alien \n",
              "                                8                                 7 \n",
              "                          Unknown                             White \n",
              "                                8                                 2 "
            ]
          },
          "metadata": {},
          "output_type": "display_data"
        }
      ],
      "source": [
        "table(df$raceethn, useNA = 'ifany')"
      ]
    },
    {
      "cell_type": "markdown",
      "metadata": {
        "id": "-fuO070z6bTi"
      },
      "source": [
        "### Example 1: Simple substitution"
      ]
    },
    {
      "cell_type": "code",
      "execution_count": 5,
      "metadata": {
        "colab": {
          "base_uri": "https://localhost:8080/",
          "height": 210
        },
        "id": "auyeUVoa8V1J",
        "outputId": "f71f0832-0280-4e74-fa79-cf72be6e1c2c",
        "vscode": {
          "languageId": "r"
        }
      },
      "outputs": [
        {
          "data": {
            "text/html": [
              "<table class=\"dataframe\">\n",
              "<caption>A data.frame: 3 × 2</caption>\n",
              "<thead>\n",
              "\t<tr><th scope=col>gender</th><th scope=col>n</th></tr>\n",
              "\t<tr><th scope=col>&lt;chr&gt;</th><th scope=col>&lt;int&gt;</th></tr>\n",
              "</thead>\n",
              "<tbody>\n",
              "\t<tr><td>F</td><td>16</td></tr>\n",
              "\t<tr><td>M</td><td>18</td></tr>\n",
              "\t<tr><td>N</td><td>16</td></tr>\n",
              "</tbody>\n",
              "</table>\n"
            ],
            "text/latex": [
              "A data.frame: 3 × 2\n",
              "\\begin{tabular}{ll}\n",
              " gender & n\\\\\n",
              " <chr> & <int>\\\\\n",
              "\\hline\n",
              "\t F & 16\\\\\n",
              "\t M & 18\\\\\n",
              "\t N & 16\\\\\n",
              "\\end{tabular}\n"
            ],
            "text/markdown": [
              "\n",
              "A data.frame: 3 × 2\n",
              "\n",
              "| gender &lt;chr&gt; | n &lt;int&gt; |\n",
              "|---|---|\n",
              "| F | 16 |\n",
              "| M | 18 |\n",
              "| N | 16 |\n",
              "\n"
            ],
            "text/plain": [
              "  gender n \n",
              "1 F      16\n",
              "2 M      18\n",
              "3 N      16"
            ]
          },
          "metadata": {},
          "output_type": "display_data"
        }
      ],
      "source": [
        "df %>%\n",
        "  mutate(gender = case_match(gender,\n",
        "  \"W\" ~ \"F\",\n",
        "  .default = gender\n",
        "  )\n",
        "  ) %>%\n",
        "    count(gender)"
      ]
    },
    {
      "cell_type": "markdown",
      "metadata": {},
      "source": [
        "### Example 2: Create levels for Race/Ethnicity even when they don't exist in the data"
      ]
    },
    {
      "cell_type": "code",
      "execution_count": 6,
      "metadata": {
        "vscode": {
          "languageId": "r"
        }
      },
      "outputs": [
        {
          "data": {
            "text/plain": [
              "\n",
              "American Indian or Alaskan Native                             Asian \n",
              "                                6                                 8 \n",
              "        Black or African American                          Hispanic \n",
              "                                6                                 5 \n",
              "               More Than One Race                Non-Resident Alien \n",
              "                                8                                 7 \n",
              "                          Unknown                             White \n",
              "                                8                                 2 \n",
              "                          Pac Isl \n",
              "                                0 "
            ]
          },
          "metadata": {},
          "output_type": "display_data"
        }
      ],
      "source": [
        "df$raceethn <- factor(df$raceethn) # must be a factor first for this to work !!!\n",
        "df$FedRace <- factor(df$raceethn, levels = c(levels(df$raceethn), \"Pac Isl\"))\n",
        "\n",
        "table(df$FedRace)"
      ]
    }
  ],
  "metadata": {
    "colab": {
      "name": "scratchpad",
      "provenance": []
    },
    "kernelspec": {
      "display_name": "R",
      "language": "R",
      "name": "ir"
    },
    "language_info": {
      "codemirror_mode": "r",
      "file_extension": ".r",
      "mimetype": "text/x-r-source",
      "name": "R",
      "pygments_lexer": "r",
      "version": "4.3.2"
    }
  },
  "nbformat": 4,
  "nbformat_minor": 0
}
