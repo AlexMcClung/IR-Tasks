{
 "cells": [
  {
   "cell_type": "markdown",
   "metadata": {},
   "source": [
    "# Creating a \"Grade Distribution\" from a Grades File"
   ]
  },
  {
   "cell_type": "code",
   "execution_count": 16,
   "metadata": {
    "vscode": {
     "languageId": "r"
    }
   },
   "outputs": [],
   "source": [
    "library('tidyverse')"
   ]
  },
  {
   "cell_type": "markdown",
   "metadata": {},
   "source": [
    "### Simulate some data  \n",
    "\n",
    "Assume repeating rows data.   "
   ]
  },
  {
   "cell_type": "code",
   "execution_count": 17,
   "metadata": {
    "vscode": {
     "languageId": "r"
    }
   },
   "outputs": [
    {
     "data": {
      "text/html": [
       "<table class=\"dataframe\">\n",
       "<caption>A data.frame: 6 × 4</caption>\n",
       "<thead>\n",
       "\t<tr><th></th><th scope=col>PIDM</th><th scope=col>Subject</th><th scope=col>Numb</th><th scope=col>Grade</th></tr>\n",
       "\t<tr><th></th><th scope=col>&lt;int&gt;</th><th scope=col>&lt;chr&gt;</th><th scope=col>&lt;dbl&gt;</th><th scope=col>&lt;chr&gt;</th></tr>\n",
       "</thead>\n",
       "<tbody>\n",
       "\t<tr><th scope=row>1</th><td> 4</td><td>ENGL</td><td>101</td><td>D </td></tr>\n",
       "\t<tr><th scope=row>2</th><td> 9</td><td>CHEM</td><td>101</td><td>A </td></tr>\n",
       "\t<tr><th scope=row>3</th><td> 9</td><td>HIST</td><td>201</td><td>C </td></tr>\n",
       "\t<tr><th scope=row>4</th><td> 9</td><td>HIST</td><td>201</td><td>A </td></tr>\n",
       "\t<tr><th scope=row>5</th><td> 6</td><td>PSYC</td><td>201</td><td>A-</td></tr>\n",
       "\t<tr><th scope=row>6</th><td>10</td><td>SPAN</td><td>301</td><td>B-</td></tr>\n",
       "</tbody>\n",
       "</table>\n"
      ],
      "text/latex": [
       "A data.frame: 6 × 4\n",
       "\\begin{tabular}{r|llll}\n",
       "  & PIDM & Subject & Numb & Grade\\\\\n",
       "  & <int> & <chr> & <dbl> & <chr>\\\\\n",
       "\\hline\n",
       "\t1 &  4 & ENGL & 101 & D \\\\\n",
       "\t2 &  9 & CHEM & 101 & A \\\\\n",
       "\t3 &  9 & HIST & 201 & C \\\\\n",
       "\t4 &  9 & HIST & 201 & A \\\\\n",
       "\t5 &  6 & PSYC & 201 & A-\\\\\n",
       "\t6 & 10 & SPAN & 301 & B-\\\\\n",
       "\\end{tabular}\n"
      ],
      "text/markdown": [
       "\n",
       "A data.frame: 6 × 4\n",
       "\n",
       "| <!--/--> | PIDM &lt;int&gt; | Subject &lt;chr&gt; | Numb &lt;dbl&gt; | Grade &lt;chr&gt; |\n",
       "|---|---|---|---|---|\n",
       "| 1 |  4 | ENGL | 101 | D  |\n",
       "| 2 |  9 | CHEM | 101 | A  |\n",
       "| 3 |  9 | HIST | 201 | C  |\n",
       "| 4 |  9 | HIST | 201 | A  |\n",
       "| 5 |  6 | PSYC | 201 | A- |\n",
       "| 6 | 10 | SPAN | 301 | B- |\n",
       "\n"
      ],
      "text/plain": [
       "  PIDM Subject Numb Grade\n",
       "1  4   ENGL    101  D    \n",
       "2  9   CHEM    101  A    \n",
       "3  9   HIST    201  C    \n",
       "4  9   HIST    201  A    \n",
       "5  6   PSYC    201  A-   \n",
       "6 10   SPAN    301  B-   "
      ]
     },
     "metadata": {},
     "output_type": "display_data"
    }
   ],
   "source": [
    "df <- data.frame(\n",
    "    PIDM = sample(1:10, 100, replace = TRUE),\n",
    "    Subject = sample(c('BIOL','CHEM','PSYC','SOC','HIST','ENGL','SPAN'), 100, replace = TRUE),\n",
    "    Numb = sample(c(101, 201, 301), 100, replace = TRUE),\n",
    "    Grade = sample(c('A','A-','B+','B','B-','C+','C','C-','D','F'), 100, replace = TRUE)\n",
    ")\n",
    "\n",
    "# Use this to make sure (fake) students don't get more than one record per course\n",
    "df <- distinct(df)\n",
    "\n",
    "head(df)"
   ]
  },
  {
   "cell_type": "markdown",
   "metadata": {},
   "source": [
    "### Solution using Base R"
   ]
  },
  {
   "cell_type": "code",
   "execution_count": 18,
   "metadata": {
    "vscode": {
     "languageId": "r"
    }
   },
   "outputs": [
    {
     "data": {
      "text/html": [
       "<table class=\"dataframe\">\n",
       "<caption>A data.frame: 21 × 10</caption>\n",
       "<thead>\n",
       "\t<tr><th></th><th scope=col>A</th><th scope=col>A-</th><th scope=col>B</th><th scope=col>B-</th><th scope=col>B+</th><th scope=col>C</th><th scope=col>C-</th><th scope=col>C+</th><th scope=col>D</th><th scope=col>F</th></tr>\n",
       "\t<tr><th></th><th scope=col>&lt;int&gt;</th><th scope=col>&lt;int&gt;</th><th scope=col>&lt;int&gt;</th><th scope=col>&lt;int&gt;</th><th scope=col>&lt;int&gt;</th><th scope=col>&lt;int&gt;</th><th scope=col>&lt;int&gt;</th><th scope=col>&lt;int&gt;</th><th scope=col>&lt;int&gt;</th><th scope=col>&lt;int&gt;</th></tr>\n",
       "</thead>\n",
       "<tbody>\n",
       "\t<tr><th scope=row>BIOL 101</th><td>1</td><td>0</td><td>0</td><td>0</td><td>1</td><td>0</td><td>1</td><td>2</td><td>0</td><td>1</td></tr>\n",
       "\t<tr><th scope=row>BIOL 201</th><td>1</td><td>0</td><td>1</td><td>1</td><td>0</td><td>0</td><td>0</td><td>0</td><td>0</td><td>2</td></tr>\n",
       "\t<tr><th scope=row>BIOL 301</th><td>1</td><td>1</td><td>1</td><td>0</td><td>0</td><td>0</td><td>0</td><td>2</td><td>0</td><td>0</td></tr>\n",
       "\t<tr><th scope=row>CHEM 101</th><td>2</td><td>1</td><td>0</td><td>0</td><td>0</td><td>1</td><td>0</td><td>0</td><td>0</td><td>0</td></tr>\n",
       "\t<tr><th scope=row>CHEM 201</th><td>0</td><td>0</td><td>2</td><td>0</td><td>1</td><td>0</td><td>1</td><td>1</td><td>0</td><td>2</td></tr>\n",
       "\t<tr><th scope=row>CHEM 301</th><td>0</td><td>0</td><td>0</td><td>1</td><td>1</td><td>0</td><td>0</td><td>1</td><td>0</td><td>0</td></tr>\n",
       "\t<tr><th scope=row>ENGL 101</th><td>0</td><td>0</td><td>0</td><td>0</td><td>0</td><td>0</td><td>0</td><td>0</td><td>3</td><td>0</td></tr>\n",
       "\t<tr><th scope=row>ENGL 201</th><td>1</td><td>0</td><td>0</td><td>0</td><td>0</td><td>0</td><td>1</td><td>2</td><td>0</td><td>0</td></tr>\n",
       "\t<tr><th scope=row>ENGL 301</th><td>0</td><td>1</td><td>0</td><td>0</td><td>1</td><td>0</td><td>1</td><td>0</td><td>1</td><td>0</td></tr>\n",
       "\t<tr><th scope=row>HIST 101</th><td>1</td><td>2</td><td>1</td><td>1</td><td>0</td><td>0</td><td>0</td><td>0</td><td>0</td><td>0</td></tr>\n",
       "\t<tr><th scope=row>HIST 201</th><td>1</td><td>0</td><td>3</td><td>0</td><td>0</td><td>1</td><td>0</td><td>0</td><td>1</td><td>0</td></tr>\n",
       "\t<tr><th scope=row>HIST 301</th><td>0</td><td>0</td><td>0</td><td>0</td><td>0</td><td>0</td><td>0</td><td>1</td><td>0</td><td>1</td></tr>\n",
       "\t<tr><th scope=row>PSYC 101</th><td>0</td><td>1</td><td>0</td><td>0</td><td>1</td><td>1</td><td>2</td><td>1</td><td>0</td><td>1</td></tr>\n",
       "\t<tr><th scope=row>PSYC 201</th><td>1</td><td>1</td><td>0</td><td>0</td><td>0</td><td>3</td><td>2</td><td>1</td><td>1</td><td>0</td></tr>\n",
       "\t<tr><th scope=row>PSYC 301</th><td>0</td><td>0</td><td>2</td><td>0</td><td>0</td><td>0</td><td>1</td><td>1</td><td>3</td><td>0</td></tr>\n",
       "\t<tr><th scope=row>SOC 101</th><td>0</td><td>0</td><td>0</td><td>0</td><td>0</td><td>0</td><td>0</td><td>2</td><td>0</td><td>0</td></tr>\n",
       "\t<tr><th scope=row>SOC 201</th><td>0</td><td>0</td><td>1</td><td>0</td><td>0</td><td>1</td><td>0</td><td>0</td><td>0</td><td>1</td></tr>\n",
       "\t<tr><th scope=row>SOC 301</th><td>1</td><td>0</td><td>0</td><td>0</td><td>0</td><td>0</td><td>0</td><td>0</td><td>0</td><td>1</td></tr>\n",
       "\t<tr><th scope=row>SPAN 101</th><td>1</td><td>2</td><td>0</td><td>0</td><td>0</td><td>0</td><td>1</td><td>0</td><td>1</td><td>0</td></tr>\n",
       "\t<tr><th scope=row>SPAN 201</th><td>0</td><td>0</td><td>0</td><td>1</td><td>0</td><td>0</td><td>0</td><td>1</td><td>1</td><td>0</td></tr>\n",
       "\t<tr><th scope=row>SPAN 301</th><td>0</td><td>0</td><td>1</td><td>1</td><td>0</td><td>0</td><td>0</td><td>1</td><td>0</td><td>0</td></tr>\n",
       "</tbody>\n",
       "</table>\n"
      ],
      "text/latex": [
       "A data.frame: 21 × 10\n",
       "\\begin{tabular}{r|llllllllll}\n",
       "  & A & A- & B & B- & B+ & C & C- & C+ & D & F\\\\\n",
       "  & <int> & <int> & <int> & <int> & <int> & <int> & <int> & <int> & <int> & <int>\\\\\n",
       "\\hline\n",
       "\tBIOL 101 & 1 & 0 & 0 & 0 & 1 & 0 & 1 & 2 & 0 & 1\\\\\n",
       "\tBIOL 201 & 1 & 0 & 1 & 1 & 0 & 0 & 0 & 0 & 0 & 2\\\\\n",
       "\tBIOL 301 & 1 & 1 & 1 & 0 & 0 & 0 & 0 & 2 & 0 & 0\\\\\n",
       "\tCHEM 101 & 2 & 1 & 0 & 0 & 0 & 1 & 0 & 0 & 0 & 0\\\\\n",
       "\tCHEM 201 & 0 & 0 & 2 & 0 & 1 & 0 & 1 & 1 & 0 & 2\\\\\n",
       "\tCHEM 301 & 0 & 0 & 0 & 1 & 1 & 0 & 0 & 1 & 0 & 0\\\\\n",
       "\tENGL 101 & 0 & 0 & 0 & 0 & 0 & 0 & 0 & 0 & 3 & 0\\\\\n",
       "\tENGL 201 & 1 & 0 & 0 & 0 & 0 & 0 & 1 & 2 & 0 & 0\\\\\n",
       "\tENGL 301 & 0 & 1 & 0 & 0 & 1 & 0 & 1 & 0 & 1 & 0\\\\\n",
       "\tHIST 101 & 1 & 2 & 1 & 1 & 0 & 0 & 0 & 0 & 0 & 0\\\\\n",
       "\tHIST 201 & 1 & 0 & 3 & 0 & 0 & 1 & 0 & 0 & 1 & 0\\\\\n",
       "\tHIST 301 & 0 & 0 & 0 & 0 & 0 & 0 & 0 & 1 & 0 & 1\\\\\n",
       "\tPSYC 101 & 0 & 1 & 0 & 0 & 1 & 1 & 2 & 1 & 0 & 1\\\\\n",
       "\tPSYC 201 & 1 & 1 & 0 & 0 & 0 & 3 & 2 & 1 & 1 & 0\\\\\n",
       "\tPSYC 301 & 0 & 0 & 2 & 0 & 0 & 0 & 1 & 1 & 3 & 0\\\\\n",
       "\tSOC 101 & 0 & 0 & 0 & 0 & 0 & 0 & 0 & 2 & 0 & 0\\\\\n",
       "\tSOC 201 & 0 & 0 & 1 & 0 & 0 & 1 & 0 & 0 & 0 & 1\\\\\n",
       "\tSOC 301 & 1 & 0 & 0 & 0 & 0 & 0 & 0 & 0 & 0 & 1\\\\\n",
       "\tSPAN 101 & 1 & 2 & 0 & 0 & 0 & 0 & 1 & 0 & 1 & 0\\\\\n",
       "\tSPAN 201 & 0 & 0 & 0 & 1 & 0 & 0 & 0 & 1 & 1 & 0\\\\\n",
       "\tSPAN 301 & 0 & 0 & 1 & 1 & 0 & 0 & 0 & 1 & 0 & 0\\\\\n",
       "\\end{tabular}\n"
      ],
      "text/markdown": [
       "\n",
       "A data.frame: 21 × 10\n",
       "\n",
       "| <!--/--> | A &lt;int&gt; | A- &lt;int&gt; | B &lt;int&gt; | B- &lt;int&gt; | B+ &lt;int&gt; | C &lt;int&gt; | C- &lt;int&gt; | C+ &lt;int&gt; | D &lt;int&gt; | F &lt;int&gt; |\n",
       "|---|---|---|---|---|---|---|---|---|---|---|\n",
       "| BIOL 101 | 1 | 0 | 0 | 0 | 1 | 0 | 1 | 2 | 0 | 1 |\n",
       "| BIOL 201 | 1 | 0 | 1 | 1 | 0 | 0 | 0 | 0 | 0 | 2 |\n",
       "| BIOL 301 | 1 | 1 | 1 | 0 | 0 | 0 | 0 | 2 | 0 | 0 |\n",
       "| CHEM 101 | 2 | 1 | 0 | 0 | 0 | 1 | 0 | 0 | 0 | 0 |\n",
       "| CHEM 201 | 0 | 0 | 2 | 0 | 1 | 0 | 1 | 1 | 0 | 2 |\n",
       "| CHEM 301 | 0 | 0 | 0 | 1 | 1 | 0 | 0 | 1 | 0 | 0 |\n",
       "| ENGL 101 | 0 | 0 | 0 | 0 | 0 | 0 | 0 | 0 | 3 | 0 |\n",
       "| ENGL 201 | 1 | 0 | 0 | 0 | 0 | 0 | 1 | 2 | 0 | 0 |\n",
       "| ENGL 301 | 0 | 1 | 0 | 0 | 1 | 0 | 1 | 0 | 1 | 0 |\n",
       "| HIST 101 | 1 | 2 | 1 | 1 | 0 | 0 | 0 | 0 | 0 | 0 |\n",
       "| HIST 201 | 1 | 0 | 3 | 0 | 0 | 1 | 0 | 0 | 1 | 0 |\n",
       "| HIST 301 | 0 | 0 | 0 | 0 | 0 | 0 | 0 | 1 | 0 | 1 |\n",
       "| PSYC 101 | 0 | 1 | 0 | 0 | 1 | 1 | 2 | 1 | 0 | 1 |\n",
       "| PSYC 201 | 1 | 1 | 0 | 0 | 0 | 3 | 2 | 1 | 1 | 0 |\n",
       "| PSYC 301 | 0 | 0 | 2 | 0 | 0 | 0 | 1 | 1 | 3 | 0 |\n",
       "| SOC 101 | 0 | 0 | 0 | 0 | 0 | 0 | 0 | 2 | 0 | 0 |\n",
       "| SOC 201 | 0 | 0 | 1 | 0 | 0 | 1 | 0 | 0 | 0 | 1 |\n",
       "| SOC 301 | 1 | 0 | 0 | 0 | 0 | 0 | 0 | 0 | 0 | 1 |\n",
       "| SPAN 101 | 1 | 2 | 0 | 0 | 0 | 0 | 1 | 0 | 1 | 0 |\n",
       "| SPAN 201 | 0 | 0 | 0 | 1 | 0 | 0 | 0 | 1 | 1 | 0 |\n",
       "| SPAN 301 | 0 | 0 | 1 | 1 | 0 | 0 | 0 | 1 | 0 | 0 |\n",
       "\n"
      ],
      "text/plain": [
       "         A A- B B- B+ C C- C+ D F\n",
       "BIOL 101 1 0  0 0  1  0 1  2  0 1\n",
       "BIOL 201 1 0  1 1  0  0 0  0  0 2\n",
       "BIOL 301 1 1  1 0  0  0 0  2  0 0\n",
       "CHEM 101 2 1  0 0  0  1 0  0  0 0\n",
       "CHEM 201 0 0  2 0  1  0 1  1  0 2\n",
       "CHEM 301 0 0  0 1  1  0 0  1  0 0\n",
       "ENGL 101 0 0  0 0  0  0 0  0  3 0\n",
       "ENGL 201 1 0  0 0  0  0 1  2  0 0\n",
       "ENGL 301 0 1  0 0  1  0 1  0  1 0\n",
       "HIST 101 1 2  1 1  0  0 0  0  0 0\n",
       "HIST 201 1 0  3 0  0  1 0  0  1 0\n",
       "HIST 301 0 0  0 0  0  0 0  1  0 1\n",
       "PSYC 101 0 1  0 0  1  1 2  1  0 1\n",
       "PSYC 201 1 1  0 0  0  3 2  1  1 0\n",
       "PSYC 301 0 0  2 0  0  0 1  1  3 0\n",
       "SOC 101  0 0  0 0  0  0 0  2  0 0\n",
       "SOC 201  0 0  1 0  0  1 0  0  0 1\n",
       "SOC 301  1 0  0 0  0  0 0  0  0 1\n",
       "SPAN 101 1 2  0 0  0  0 1  0  1 0\n",
       "SPAN 201 0 0  0 1  0  0 0  1  1 0\n",
       "SPAN 301 0 0  1 1  0  0 0  1  0 0"
      ]
     },
     "metadata": {},
     "output_type": "display_data"
    }
   ],
   "source": [
    "df$Course <- paste(df$Subject, df$Numb)\n",
    "\n",
    "# df$FinalGrade <- ifelse(df$FinalGrade %in% c(), 'A', df$FinalGrade) # example for recoding any errant values\n",
    "# df$FinalGrade <- factor(df$FinalGrade, levels = c()) # specify the correct order of grades\n",
    "\n",
    "# produce the grade distribution\n",
    "gd <- as.data.frame.matrix(table(df$Course, df$Grade))\n",
    "\n",
    "gd"
   ]
  }
 ],
 "metadata": {
  "kernelspec": {
   "display_name": "R",
   "language": "R",
   "name": "ir"
  },
  "language_info": {
   "codemirror_mode": "r",
   "file_extension": ".r",
   "mimetype": "text/x-r-source",
   "name": "R",
   "pygments_lexer": "r",
   "version": "4.3.2"
  }
 },
 "nbformat": 4,
 "nbformat_minor": 2
}
