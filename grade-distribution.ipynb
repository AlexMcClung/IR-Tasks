{
 "cells": [
  {
   "cell_type": "markdown",
   "metadata": {},
   "source": [
    "# Creating a \"Grade Distribution\" from a Grades File"
   ]
  },
  {
   "cell_type": "code",
   "execution_count": 3,
   "metadata": {
    "vscode": {
     "languageId": "r"
    }
   },
   "outputs": [],
   "source": [
    "library('tidyverse')"
   ]
  },
  {
   "cell_type": "markdown",
   "metadata": {},
   "source": [
    "### Simulate some data  \n",
    "\n",
    "Assume repeating rows data  "
   ]
  },
  {
   "cell_type": "code",
   "execution_count": 4,
   "metadata": {
    "vscode": {
     "languageId": "r"
    }
   },
   "outputs": [
    {
     "data": {
      "text/html": [
       "<table class=\"dataframe\">\n",
       "<caption>A tibble: 8 × 4</caption>\n",
       "<thead>\n",
       "\t<tr><th scope=col>Student</th><th scope=col>Subject</th><th scope=col>CourseNumber</th><th scope=col>FinalGrade</th></tr>\n",
       "\t<tr><th scope=col>&lt;dbl&gt;</th><th scope=col>&lt;chr&gt;</th><th scope=col>&lt;dbl&gt;</th><th scope=col>&lt;chr&gt;</th></tr>\n",
       "</thead>\n",
       "<tbody>\n",
       "\t<tr><td>1</td><td>BIOL</td><td>101</td><td>C-</td></tr>\n",
       "\t<tr><td>1</td><td>MATH</td><td>101</td><td>B-</td></tr>\n",
       "\t<tr><td>2</td><td>ENGL</td><td>201</td><td>B+</td></tr>\n",
       "\t<tr><td>2</td><td>SPAN</td><td>201</td><td>A-</td></tr>\n",
       "\t<tr><td>2</td><td>BIOL</td><td>201</td><td>A-</td></tr>\n",
       "\t<tr><td>3</td><td>SPAN</td><td>201</td><td>A-</td></tr>\n",
       "\t<tr><td>3</td><td>BIOL</td><td>101</td><td>A </td></tr>\n",
       "\t<tr><td>1</td><td>HIST</td><td>210</td><td>B </td></tr>\n",
       "</tbody>\n",
       "</table>\n"
      ],
      "text/latex": [
       "A tibble: 8 × 4\n",
       "\\begin{tabular}{llll}\n",
       " Student & Subject & CourseNumber & FinalGrade\\\\\n",
       " <dbl> & <chr> & <dbl> & <chr>\\\\\n",
       "\\hline\n",
       "\t 1 & BIOL & 101 & C-\\\\\n",
       "\t 1 & MATH & 101 & B-\\\\\n",
       "\t 2 & ENGL & 201 & B+\\\\\n",
       "\t 2 & SPAN & 201 & A-\\\\\n",
       "\t 2 & BIOL & 201 & A-\\\\\n",
       "\t 3 & SPAN & 201 & A-\\\\\n",
       "\t 3 & BIOL & 101 & A \\\\\n",
       "\t 1 & HIST & 210 & B \\\\\n",
       "\\end{tabular}\n"
      ],
      "text/markdown": [
       "\n",
       "A tibble: 8 × 4\n",
       "\n",
       "| Student &lt;dbl&gt; | Subject &lt;chr&gt; | CourseNumber &lt;dbl&gt; | FinalGrade &lt;chr&gt; |\n",
       "|---|---|---|---|\n",
       "| 1 | BIOL | 101 | C- |\n",
       "| 1 | MATH | 101 | B- |\n",
       "| 2 | ENGL | 201 | B+ |\n",
       "| 2 | SPAN | 201 | A- |\n",
       "| 2 | BIOL | 201 | A- |\n",
       "| 3 | SPAN | 201 | A- |\n",
       "| 3 | BIOL | 101 | A  |\n",
       "| 1 | HIST | 210 | B  |\n",
       "\n"
      ],
      "text/plain": [
       "  Student Subject CourseNumber FinalGrade\n",
       "1 1       BIOL    101          C-        \n",
       "2 1       MATH    101          B-        \n",
       "3 2       ENGL    201          B+        \n",
       "4 2       SPAN    201          A-        \n",
       "5 2       BIOL    201          A-        \n",
       "6 3       SPAN    201          A-        \n",
       "7 3       BIOL    101          A         \n",
       "8 1       HIST    210          B         "
      ]
     },
     "metadata": {},
     "output_type": "display_data"
    }
   ],
   "source": [
    "df <- tribble(\n",
    "  ~Student, ~Subject, ~CourseNumber, ~FinalGrade,\n",
    "  1,'BIOL',101,'C-',\n",
    "  1,'MATH',101,'B-',\n",
    "  2,'ENGL',201,'B+',\n",
    "  2,'SPAN',201,'A-',\n",
    "  2,'BIOL',201,'A-',\n",
    "  3,'SPAN',201,'A-',\n",
    "  3,'BIOL',101,'A',\n",
    "  1,'HIST',210,'B',\n",
    ")\n",
    "\n",
    "df"
   ]
  },
  {
   "cell_type": "markdown",
   "metadata": {},
   "source": [
    "### Solution using Base R"
   ]
  },
  {
   "cell_type": "code",
   "execution_count": 5,
   "metadata": {
    "vscode": {
     "languageId": "r"
    }
   },
   "outputs": [
    {
     "data": {
      "text/html": [
       "<table class=\"dataframe\">\n",
       "<caption>A data.frame: 6 × 6</caption>\n",
       "<thead>\n",
       "\t<tr><th></th><th scope=col>A</th><th scope=col>A-</th><th scope=col>B</th><th scope=col>B-</th><th scope=col>B+</th><th scope=col>C-</th></tr>\n",
       "\t<tr><th></th><th scope=col>&lt;int&gt;</th><th scope=col>&lt;int&gt;</th><th scope=col>&lt;int&gt;</th><th scope=col>&lt;int&gt;</th><th scope=col>&lt;int&gt;</th><th scope=col>&lt;int&gt;</th></tr>\n",
       "</thead>\n",
       "<tbody>\n",
       "\t<tr><th scope=row>BIOL 101</th><td>1</td><td>0</td><td>0</td><td>0</td><td>0</td><td>1</td></tr>\n",
       "\t<tr><th scope=row>BIOL 201</th><td>0</td><td>1</td><td>0</td><td>0</td><td>0</td><td>0</td></tr>\n",
       "\t<tr><th scope=row>ENGL 201</th><td>0</td><td>0</td><td>0</td><td>0</td><td>1</td><td>0</td></tr>\n",
       "\t<tr><th scope=row>HIST 210</th><td>0</td><td>0</td><td>1</td><td>0</td><td>0</td><td>0</td></tr>\n",
       "\t<tr><th scope=row>MATH 101</th><td>0</td><td>0</td><td>0</td><td>1</td><td>0</td><td>0</td></tr>\n",
       "\t<tr><th scope=row>SPAN 201</th><td>0</td><td>2</td><td>0</td><td>0</td><td>0</td><td>0</td></tr>\n",
       "</tbody>\n",
       "</table>\n"
      ],
      "text/latex": [
       "A data.frame: 6 × 6\n",
       "\\begin{tabular}{r|llllll}\n",
       "  & A & A- & B & B- & B+ & C-\\\\\n",
       "  & <int> & <int> & <int> & <int> & <int> & <int>\\\\\n",
       "\\hline\n",
       "\tBIOL 101 & 1 & 0 & 0 & 0 & 0 & 1\\\\\n",
       "\tBIOL 201 & 0 & 1 & 0 & 0 & 0 & 0\\\\\n",
       "\tENGL 201 & 0 & 0 & 0 & 0 & 1 & 0\\\\\n",
       "\tHIST 210 & 0 & 0 & 1 & 0 & 0 & 0\\\\\n",
       "\tMATH 101 & 0 & 0 & 0 & 1 & 0 & 0\\\\\n",
       "\tSPAN 201 & 0 & 2 & 0 & 0 & 0 & 0\\\\\n",
       "\\end{tabular}\n"
      ],
      "text/markdown": [
       "\n",
       "A data.frame: 6 × 6\n",
       "\n",
       "| <!--/--> | A &lt;int&gt; | A- &lt;int&gt; | B &lt;int&gt; | B- &lt;int&gt; | B+ &lt;int&gt; | C- &lt;int&gt; |\n",
       "|---|---|---|---|---|---|---|\n",
       "| BIOL 101 | 1 | 0 | 0 | 0 | 0 | 1 |\n",
       "| BIOL 201 | 0 | 1 | 0 | 0 | 0 | 0 |\n",
       "| ENGL 201 | 0 | 0 | 0 | 0 | 1 | 0 |\n",
       "| HIST 210 | 0 | 0 | 1 | 0 | 0 | 0 |\n",
       "| MATH 101 | 0 | 0 | 0 | 1 | 0 | 0 |\n",
       "| SPAN 201 | 0 | 2 | 0 | 0 | 0 | 0 |\n",
       "\n"
      ],
      "text/plain": [
       "         A A- B B- B+ C-\n",
       "BIOL 101 1 0  0 0  0  1 \n",
       "BIOL 201 0 1  0 0  0  0 \n",
       "ENGL 201 0 0  0 0  1  0 \n",
       "HIST 210 0 0  1 0  0  0 \n",
       "MATH 101 0 0  0 1  0  0 \n",
       "SPAN 201 0 2  0 0  0  0 "
      ]
     },
     "metadata": {},
     "output_type": "display_data"
    }
   ],
   "source": [
    "df$Course <- paste(df$Subject, df$CourseNumber)\n",
    "\n",
    "# df$FinalGrade <- ifelse(df$FinalGrade %in% c(), 'A', df$FinalGrade) # example for recoding any errant values\n",
    "# df$FinalGrade <- factor(df$FinalGrade, levels = c()) # specify the correct order of grades\n",
    "\n",
    "# produce the grade distribution\n",
    "gd <- as.data.frame.matrix(table(df$Course, df$FinalGrade))\n",
    "\n",
    "gd"
   ]
  }
 ],
 "metadata": {
  "kernelspec": {
   "display_name": "R",
   "language": "R",
   "name": "ir"
  },
  "language_info": {
   "codemirror_mode": "r",
   "file_extension": ".r",
   "mimetype": "text/x-r-source",
   "name": "R",
   "pygments_lexer": "r",
   "version": "4.3.2"
  }
 },
 "nbformat": 4,
 "nbformat_minor": 2
}
