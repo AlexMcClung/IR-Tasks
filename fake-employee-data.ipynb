{
 "cells": [
  {
   "cell_type": "markdown",
   "metadata": {},
   "source": [
    "# Create Fake Employee Data"
   ]
  },
  {
   "cell_type": "markdown",
   "metadata": {},
   "source": [
    "Example use of the [faker](https://faker.readthedocs.io/en/master/) package in Python to simulate employee data"
   ]
  },
  {
   "cell_type": "code",
   "execution_count": 1,
   "metadata": {},
   "outputs": [],
   "source": [
    "# pip install faker\n",
    "# pip install pandas\n",
    "from faker import Faker\n",
    "import pandas as pd"
   ]
  },
  {
   "cell_type": "code",
   "execution_count": 5,
   "metadata": {},
   "outputs": [],
   "source": [
    "Faker.seed(42)\n",
    "\n",
    "fake = Faker(locale='en_US')\n",
    "\n",
    "# add further items and customizations here\n",
    "fake_workers = [\n",
    "    {'emp_id': '',\n",
    "     'emp_name': fake.name(),\n",
    "     'emp_address': fake.address(),\n",
    "     'emp_dob': fake.date_between(start_date='-60y', end_date='-20y'),\n",
    "     'emp_salary': fake.random_number(digits=6, fix_len=5),\n",
    "     'emp_gender': fake.random_element(elements=['M', 'F']),\n",
    "     'emp_status': fake.random_element(elements=['Active', 'Terminated', 'Resigned'])\n",
    "    }\n",
    "    for x in range(100)]"
   ]
  },
  {
   "cell_type": "code",
   "execution_count": 6,
   "metadata": {},
   "outputs": [
    {
     "data": {
      "text/html": [
       "<div>\n",
       "<style scoped>\n",
       "    .dataframe tbody tr th:only-of-type {\n",
       "        vertical-align: middle;\n",
       "    }\n",
       "\n",
       "    .dataframe tbody tr th {\n",
       "        vertical-align: top;\n",
       "    }\n",
       "\n",
       "    .dataframe thead th {\n",
       "        text-align: right;\n",
       "    }\n",
       "</style>\n",
       "<table border=\"1\" class=\"dataframe\">\n",
       "  <thead>\n",
       "    <tr style=\"text-align: right;\">\n",
       "      <th></th>\n",
       "      <th>emp_id</th>\n",
       "      <th>emp_name</th>\n",
       "      <th>emp_address</th>\n",
       "      <th>emp_dob</th>\n",
       "      <th>emp_salary</th>\n",
       "      <th>emp_gender</th>\n",
       "      <th>emp_status</th>\n",
       "    </tr>\n",
       "  </thead>\n",
       "  <tbody>\n",
       "    <tr>\n",
       "      <th>0</th>\n",
       "      <td>101</td>\n",
       "      <td>Allison Hill</td>\n",
       "      <td>819 Johnson Course\\nEast William, AK 74064</td>\n",
       "      <td>1972-02-18</td>\n",
       "      <td>781453</td>\n",
       "      <td>F</td>\n",
       "      <td>Active</td>\n",
       "    </tr>\n",
       "    <tr>\n",
       "      <th>1</th>\n",
       "      <td>102</td>\n",
       "      <td>Donald Booth</td>\n",
       "      <td>654 Jason Track\\nCurtisfurt, CT 47553</td>\n",
       "      <td>1998-01-28</td>\n",
       "      <td>733052</td>\n",
       "      <td>F</td>\n",
       "      <td>Active</td>\n",
       "    </tr>\n",
       "    <tr>\n",
       "      <th>2</th>\n",
       "      <td>103</td>\n",
       "      <td>Kimberly Dudley</td>\n",
       "      <td>959 Janet Cape Apt. 413\\nSouth Joshuastad, GA ...</td>\n",
       "      <td>1978-05-22</td>\n",
       "      <td>802729</td>\n",
       "      <td>F</td>\n",
       "      <td>Resigned</td>\n",
       "    </tr>\n",
       "    <tr>\n",
       "      <th>3</th>\n",
       "      <td>104</td>\n",
       "      <td>Maria Lynch</td>\n",
       "      <td>76483 Cameron Trail\\nEast Lydiamouth, MO 35594</td>\n",
       "      <td>1966-10-29</td>\n",
       "      <td>694731</td>\n",
       "      <td>F</td>\n",
       "      <td>Active</td>\n",
       "    </tr>\n",
       "    <tr>\n",
       "      <th>4</th>\n",
       "      <td>105</td>\n",
       "      <td>Jennifer Rocha</td>\n",
       "      <td>38849 Hurst Locks Suite 328\\nDaviston, VI 14872</td>\n",
       "      <td>1970-04-17</td>\n",
       "      <td>267753</td>\n",
       "      <td>F</td>\n",
       "      <td>Resigned</td>\n",
       "    </tr>\n",
       "  </tbody>\n",
       "</table>\n",
       "</div>"
      ],
      "text/plain": [
       "   emp_id         emp_name                                        emp_address  \\\n",
       "0     101     Allison Hill         819 Johnson Course\\nEast William, AK 74064   \n",
       "1     102     Donald Booth              654 Jason Track\\nCurtisfurt, CT 47553   \n",
       "2     103  Kimberly Dudley  959 Janet Cape Apt. 413\\nSouth Joshuastad, GA ...   \n",
       "3     104      Maria Lynch     76483 Cameron Trail\\nEast Lydiamouth, MO 35594   \n",
       "4     105   Jennifer Rocha    38849 Hurst Locks Suite 328\\nDaviston, VI 14872   \n",
       "\n",
       "      emp_dob  emp_salary emp_gender emp_status  \n",
       "0  1972-02-18      781453          F     Active  \n",
       "1  1998-01-28      733052          F     Active  \n",
       "2  1978-05-22      802729          F   Resigned  \n",
       "3  1966-10-29      694731          F     Active  \n",
       "4  1970-04-17      267753          F   Resigned  "
      ]
     },
     "execution_count": 6,
     "metadata": {},
     "output_type": "execute_result"
    }
   ],
   "source": [
    "df = pd.DataFrame(fake_workers)\n",
    "\n",
    "df['emp_id'] = range(101, 201)\n",
    "\n",
    "df.head()"
   ]
  }
 ],
 "metadata": {
  "kernelspec": {
   "display_name": ".venv",
   "language": "python",
   "name": "python3"
  },
  "language_info": {
   "codemirror_mode": {
    "name": "ipython",
    "version": 3
   },
   "file_extension": ".py",
   "mimetype": "text/x-python",
   "name": "python",
   "nbconvert_exporter": "python",
   "pygments_lexer": "ipython3",
   "version": "3.8.10"
  }
 },
 "nbformat": 4,
 "nbformat_minor": 2
}
